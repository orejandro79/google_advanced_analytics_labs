{
 "cells": [
  {
   "cell_type": "code",
   "execution_count": 1,
   "metadata": {},
   "outputs": [
    {
     "name": "stdout",
     "output_type": "stream",
     "text": [
      "59\n"
     ]
    },
    {
     "data": {
      "text/plain": [
       "int"
      ]
     },
     "execution_count": 1,
     "metadata": {},
     "output_type": "execute_result"
    }
   ],
   "source": [
    "# 1.\n",
    "### YOUR CODE HERE ###\n",
    "adult_tickets_sold = int(59.0)\n",
    "\n",
    "# 2.\n",
    "### YOUR CODE HERE ###\n",
    "print (adult_tickets_sold)\n",
    "type (adult_tickets_sold)"
   ]
  },
  {
   "cell_type": "code",
   "execution_count": 2,
   "metadata": {},
   "outputs": [
    {
     "name": "stdout",
     "output_type": "stream",
     "text": [
      "362880\n"
     ]
    }
   ],
   "source": [
    "# This function takes an integer as an input and returns its factorial.\n",
    "def factorial(n):\n",
    "    # Exclude 0 as product, start with 1\n",
    "    y = 1\n",
    "    for i in range(int(n)):\n",
    "        y = y*(i+1)\n",
    "    return y\n",
    "\n",
    "# Enter a numerical value between 1-9 in the command line that appears.\n",
    "input_num = input()\n",
    "# Apply factorial function to an integer input\n",
    "print(factorial(input_num))"
   ]
  },
  {
   "cell_type": "code",
   "execution_count": 3,
   "metadata": {},
   "outputs": [
    {
     "data": {
      "text/plain": [
       "10.64"
      ]
     },
     "execution_count": 3,
     "metadata": {},
     "output_type": "execute_result"
    }
   ],
   "source": [
    "def seed_calculator(fountain_side, grass_width):\n",
    "    \"\"\"\n",
    "    Calculate number of kilograms of grass seed needed for\n",
    "    a border around a square fountain.\n",
    "\n",
    "        Parameters:\n",
    "            fountain_side (num): length of 1 side of fountain in meters\n",
    "            grass_width (num): width of grass border in meters\n",
    "\n",
    "        Returns:\n",
    "            seed (float): amount of seed (kg) needed for grass border\n",
    "    \"\"\"\n",
    "    # Area of fountain\n",
    "    fountain_area = fountain_side**2\n",
    "    # Total area\n",
    "    total_area = (fountain_side + 2 * grass_width)**2\n",
    "    # Area of grass border\n",
    "    grass_area = total_area - fountain_area\n",
    "    # Amount of seed needed (35 g/sq.m)\n",
    "    seed = grass_area * 35\n",
    "    # Convert to kg\n",
    "    seed = seed / 1000\n",
    "\n",
    "    return seed\n",
    "\n",
    "seed_calculator(15, 4)\n",
    "\n"
   ]
  },
  {
   "cell_type": "code",
   "execution_count": 4,
   "metadata": {},
   "outputs": [],
   "source": [
    "# Define a function named `total_sales`\n",
    "def total_sales(price,num_tickets):\n",
    "     \"\"\"\n",
    "    Calculate tota_sales in a cinema\n",
    "\n",
    "        Parameters:\n",
    "            price (float): this is the cost of tickets\n",
    "            num_tickets (integer): width of grass border in meters\n",
    "\n",
    "        Returns:\n",
    "            Sales (float): amount of cinema sales (float) \n",
    "    \"\"\"\n",
    "     # total sales of cinema by day\n",
    "     cinema_sales = price * num_tickets\n",
    "     # Return a value\n",
    "     return cinema_sales    \n",
    "    \n",
    "\n",
    "    "
   ]
  },
  {
   "cell_type": "code",
   "execution_count": 5,
   "metadata": {},
   "outputs": [
    {
     "data": {
      "text/plain": [
       "16005.99"
      ]
     },
     "execution_count": 5,
     "metadata": {},
     "output_type": "execute_result"
    }
   ],
   "source": [
    "# Call `total_sales` with 15.99 price and 1001 num_tickets\n",
    "### YOUR CODE HERE ###\n",
    "total_sales(15.99,1001)\n"
   ]
  },
  {
   "cell_type": "code",
   "execution_count": 6,
   "metadata": {},
   "outputs": [
    {
     "data": {
      "text/plain": [
       "20931.679999999997"
      ]
     },
     "execution_count": 6,
     "metadata": {},
     "output_type": "execute_result"
    }
   ],
   "source": [
    "# Call `total_sales` with 16.99 price and 1232 num_tickets\n",
    "### YOUR CODE HERE ###\n",
    "total_sales(16.99,1232)"
   ]
  },
  {
   "cell_type": "code",
   "execution_count": 7,
   "metadata": {},
   "outputs": [
    {
     "data": {
      "text/plain": [
       "15456.0"
      ]
     },
     "execution_count": 7,
     "metadata": {},
     "output_type": "execute_result"
    }
   ],
   "source": [
    "# Call `total_sales` with 10.50 price and 1472 num_tickets\n",
    "### YOUR CODE HERE ###\n",
    "total_sales(10.50,1472)"
   ]
  },
  {
   "cell_type": "code",
   "execution_count": 8,
   "metadata": {},
   "outputs": [
    {
     "data": {
      "text/plain": [
       "1745.0"
      ]
     },
     "execution_count": 8,
     "metadata": {},
     "output_type": "execute_result"
    }
   ],
   "source": [
    "# Call `total_sales` with 5.00 price and 349 num_tickets\n",
    "### YOUR CODE HERE ###\n",
    "total_sales(5.00,349)"
   ]
  },
  {
   "cell_type": "code",
   "execution_count": 9,
   "metadata": {},
   "outputs": [
    {
     "data": {
      "text/plain": [
       "471.41"
      ]
     },
     "execution_count": 9,
     "metadata": {},
     "output_type": "execute_result"
    }
   ],
   "source": [
    "def total_sales_1 (n):\n",
    "    sales_1 = n * 7.99\n",
    "    return sales_1\n",
    "\n",
    "total_sales_1 (59)"
   ]
  },
  {
   "cell_type": "code",
   "execution_count": 10,
   "metadata": {},
   "outputs": [],
   "source": [
    "### YOUR CODE HERE ###\n",
    "def send_email (num_visits,visits_email):\n",
    "    if num_visits >= visits_email:\n",
    "        print ('Send email.')\n",
    "    else:\n",
    "        print ('Not enough visits.')\n",
    "       \n"
   ]
  },
  {
   "cell_type": "code",
   "execution_count": 11,
   "metadata": {},
   "outputs": [
    {
     "name": "stdout",
     "output_type": "stream",
     "text": [
      "Send email.\n"
     ]
    }
   ],
   "source": [
    "send_email (6,5)"
   ]
  },
  {
   "cell_type": "code",
   "execution_count": 12,
   "metadata": {},
   "outputs": [],
   "source": [
    "### YOUR CODE HERE ###\n",
    "def send_email_1 (num_visits,visits_email,visits_coupon):\n",
    "    if num_visits >= visits_coupon:\n",
    "        print ('Send email with coupon.')\n",
    "    elif num_visits >= visits_email:\n",
    "        print ('Send email.')\n",
    "    else:\n",
    "        print ('Not enough visits.')"
   ]
  },
  {
   "cell_type": "code",
   "execution_count": 13,
   "metadata": {},
   "outputs": [
    {
     "name": "stdout",
     "output_type": "stream",
     "text": [
      "Not enough visits.\n",
      "Send email.\n",
      "Send email.\n",
      "Send email with coupon.\n",
      "Send email with coupon.\n"
     ]
    }
   ],
   "source": [
    "send_email_1 (3,5,8)\n",
    "send_email_1 (5,5,8)\n",
    "send_email_1 (6,5,8)\n",
    "send_email_1 (8,5,8)\n",
    "send_email_1 (10,5,8)"
   ]
  },
  {
   "cell_type": "code",
   "execution_count": 17,
   "metadata": {},
   "outputs": [
    {
     "name": "stdout",
     "output_type": "stream",
     "text": [
      "Candy purchased: 1\n",
      "Candy purchased: 2\n",
      "Candy purchased: 3\n",
      "Candy purchased: 4\n",
      "Candy purchased: 5\n"
     ]
    }
   ],
   "source": [
    "# Initialize the counter variable\n",
    "candy_purchased = 0\n",
    "\n",
    "    # Create a while loop that runs until 5 candies have been purchased\n",
    "while candy_purchased < 5:\n",
    "    # Print the current candy purchase count\n",
    "        print(f'Candy purchased: {candy_purchased + 1}')\n",
    "    # Increment the counter\n",
    "        candy_purchased += 1"
   ]
  },
  {
   "cell_type": "code",
   "execution_count": 5,
   "metadata": {},
   "outputs": [
    {
     "name": "stdout",
     "output_type": "stream",
     "text": [
      "1\n",
      "2\n",
      "3\n",
      "3\n"
     ]
    }
   ],
   "source": [
    "num = 5\n",
    "y = [1, 2, 3]\n",
    "for num in y:\n",
    "   print(num)\n",
    "print (num)"
   ]
  },
  {
   "cell_type": "code",
   "execution_count": 9,
   "metadata": {},
   "outputs": [
    {
     "name": "stdout",
     "output_type": "stream",
     "text": [
      "Igor\n",
      "Sokolov\n",
      "\n",
      "Riko\n",
      "Miyazaki\n",
      "\n",
      "Tuva\n",
      "Johansen\n",
      "\n"
     ]
    }
   ],
   "source": [
    "students = [['Igor', 'Sokolov'], ['Riko', 'Miyazaki'], ['Tuva', 'Johansen']]\n",
    "for student in students:\n",
    "   for name in student:\n",
    "       print(name)\n",
    "   print ()"
   ]
  },
  {
   "cell_type": "markdown",
   "metadata": {},
   "source": [
    "# Task 1: Iterating with if, elif, and else\n",
    "In your work as an analyst, you have received customer feedback for a newly launched product. The feedback is a numerical grade on a scale of 1-10, with 10 being the best. Understanding the number of customers who responded negatively, neutrally, or positively will help determine how to improve the product.\n",
    "\n",
    "### Define a function called score_counter that accepts the following argument:\n",
    "score_list - a list of customer-submitted scores, where each score is an integer, 1-10\n",
    "The function must iterate over the scores in score_list and bin them into three bins:\n",
    "Negative (scores of 1-5)\n",
    "Neutral (scores of 6-8)\n",
    "Positive (scores of 9-10)\n",
    "The output of the function must be three statements, each on its own line:\n",
    "\n",
    "'Negative: {number_of_negative_scores}'\n",
    "'Neutral: {number_of_neutral_scores}'\n",
    "'Positive: {number_of_positive_scores}'\n",
    "Example:\n",
    "\n",
    " [IN] score_counter([1, 2, 3, 4, 5, 6, 7, 8, 9, 10])\n",
    "[OUT] 'Negative: 5'\n",
    "      'Neutral: 3'\n",
    "      'Positive: 2'"
   ]
  },
  {
   "cell_type": "code",
   "execution_count": 18,
   "metadata": {},
   "outputs": [
    {
     "name": "stdout",
     "output_type": "stream",
     "text": [
      "Negative: 5\n",
      "Neutral: 3\n",
      "Positive: 2\n"
     ]
    }
   ],
   "source": [
    "# define function score_counter\n",
    "def score_counter(score_list):\n",
    "    # Initialize counters for each bin\n",
    "    negative_count = 0\n",
    "    neutral_count = 0\n",
    "    positive_count = 0\n",
    "\n",
    "    # Iterate through the list of scores\n",
    "    for score in score_list:\n",
    "        # Bin scores into categories using if, elif, and else\n",
    "        if 1 <= score <= 5:\n",
    "            negative_count += 1\n",
    "        elif 6 <= score <= 8:\n",
    "            neutral_count += 1\n",
    "        elif 9 <= score <= 10:\n",
    "            positive_count += 1\n",
    "\n",
    "    # Print the results\n",
    "    print(f'Negative: {negative_count}')\n",
    "    print(f'Neutral: {neutral_count}')\n",
    "    print(f'Positive: {positive_count}')\n",
    "\n",
    "# Example usage\n",
    "score_counter([1, 2, 3, 4, 5, 6, 7, 8, 9, 10])"
   ]
  },
  {
   "cell_type": "markdown",
   "metadata": {},
   "source": [
    "## Test Function\n",
    "### Test your function score_counter against the following cases by running the cell below."
   ]
  },
  {
   "cell_type": "code",
   "execution_count": 19,
   "metadata": {},
   "outputs": [
    {
     "name": "stdout",
     "output_type": "stream",
     "text": [
      "Test 1:\n",
      "Negative: 5\n",
      "Neutral: 1\n",
      "Positive: 4\n",
      "\n",
      "Test 2:\n",
      "Negative: 85\n",
      "Neutral: 253\n",
      "Positive: 112\n",
      "\n",
      "Test 3:\n",
      "Negative: 1935\n",
      "Neutral: 2652\n",
      "Positive: 5413\n"
     ]
    }
   ],
   "source": [
    "# RUN THIS CELL TO TEST YOUR FUNCTION\n",
    "\n",
    "import random\n",
    "random.seed(42)\n",
    "\n",
    "possible_scores = list(range(1,11))\n",
    "score_list1 = random.choices(possible_scores, weights=[8,8,8,8,8,3,3,4,20,30], k=10)\n",
    "score_list2 = random.choices(possible_scores, weights=[1,2,3,4,5,10,15,15,7,9], k=450)\n",
    "score_list3 = random.choices(possible_scores, weights=[1,2,3,4,4,5,5,10,15,25], k=10000)\n",
    "\n",
    "print('Test 1:')            # SHOULD OUTPUT (neg, neut, pos):\n",
    "score_counter(score_list1)  \n",
    "print('\\nTest 2:')\n",
    "score_counter(score_list2)  \n",
    "print('\\nTest 3:')\n",
    "score_counter(score_list3)  "
   ]
  },
  {
   "cell_type": "markdown",
   "metadata": {},
   "source": [
    "# Task 2: Create a for loop using if, not, and in\n",
    "There is concern that some of the customer feedback scores are fake. One way to check the integrity of the feedback is to identify how many scores came from verified customers.\n",
    "\n",
    "In this task, you are provided with two lists: a list of verified customer IDs and a list of all IDs that left feedback scores. You must validate the data by cross-checking the lists against each other.\n",
    "\n",
    "\n",
    "### Define a function called id_validator that takes two lists as arguments:\n",
    "\n",
    "verified_ids - a list containing IDs of verified customers\n",
    "feedback_ids - a list containing unique IDs of all posters of feedback scores\n",
    "The output of the function must be two statements, each on its own line:\n",
    "\n",
    "'{number_of_unverified_ids} of {number_of_feedback_ids} IDs unverified.'\n",
    "'{percent} unverified.'\n",
    "Example 1:\n",
    "\n",
    " [IN]  id_validator(verified_ids=['1', '2'], feedback_ids=['1', '2', '3'])\n",
    "[OUT]  '1 of 3 IDs unverified.'\n",
    "       '33.33% unverified.'\n",
    "Explanation:\n",
    "\n",
    "One of the IDs ('3') in feedback_ids is not in the list of verified_ids.\n",
    "1/3 of the IDs in feedback_ids are unverified.\n",
    "\n",
    "Example 2:\n",
    "\n",
    "\n",
    " [IN]  id_validator(verified_ids=['1a', '2b', '3c'], feedback_ids=['1a', '4d'])\n",
    "[OUT]  '1 of 2 IDs unverified.'\n",
    "       '50.0% unverified.'\n",
    "Explanation:\n",
    "\n",
    "One of the IDs ('4d') in feedback_ids is not in the list of verified_ids.\n",
    "1/2 of the IDs in feedback_ids are unverified."
   ]
  },
  {
   "cell_type": "code",
   "execution_count": 20,
   "metadata": {},
   "outputs": [
    {
     "name": "stdout",
     "output_type": "stream",
     "text": [
      "1 of 3 IDs unverified.\n",
      "33.33% unverified.\n",
      "1 of 2 IDs unverified.\n",
      "50.00% unverified.\n"
     ]
    }
   ],
   "source": [
    "# define function id_validator\n",
    "def id_validator(verified_ids, feedback_ids):\n",
    "    # Count the number of unverified IDs\n",
    "    unverified_count = 0\n",
    "    \n",
    "    for feedback_id in feedback_ids:\n",
    "        if feedback_id not in verified_ids:\n",
    "            unverified_count += 1\n",
    "    \n",
    "    # Calculate the total feedback IDs and percentage unverified\n",
    "    total_feedback_ids = len(feedback_ids)\n",
    "    percent_unverified = (unverified_count / total_feedback_ids) * 100\n",
    "    \n",
    "    # Print the required output\n",
    "    print(f'{unverified_count} of {total_feedback_ids} IDs unverified.')\n",
    "    print(f'{percent_unverified:.2f}% unverified.')\n",
    "\n",
    "# Example usage\n",
    "id_validator(verified_ids=['1', '2'], feedback_ids=['1', '2', '3'])\n",
    "id_validator(verified_ids=['1a', '2b', '3c'], feedback_ids=['1a', '4d'])"
   ]
  }
 ],
 "metadata": {
  "kernelspec": {
   "display_name": "Python 3",
   "language": "python",
   "name": "python3"
  },
  "language_info": {
   "codemirror_mode": {
    "name": "ipython",
    "version": 3
   },
   "file_extension": ".py",
   "mimetype": "text/x-python",
   "name": "python",
   "nbconvert_exporter": "python",
   "pygments_lexer": "ipython3",
   "version": "3.12.4"
  }
 },
 "nbformat": 4,
 "nbformat_minor": 2
}
