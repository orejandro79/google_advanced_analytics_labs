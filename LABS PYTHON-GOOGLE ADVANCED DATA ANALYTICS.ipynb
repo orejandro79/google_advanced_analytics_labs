{
 "cells": [
  {
   "cell_type": "code",
   "execution_count": 1,
   "metadata": {},
   "outputs": [
    {
     "name": "stdout",
     "output_type": "stream",
     "text": [
      "59\n"
     ]
    },
    {
     "data": {
      "text/plain": [
       "int"
      ]
     },
     "execution_count": 1,
     "metadata": {},
     "output_type": "execute_result"
    }
   ],
   "source": [
    "# 1.\n",
    "### YOUR CODE HERE ###\n",
    "adult_tickets_sold = int(59.0)\n",
    "\n",
    "# 2.\n",
    "### YOUR CODE HERE ###\n",
    "print (adult_tickets_sold)\n",
    "type (adult_tickets_sold)"
   ]
  },
  {
   "cell_type": "code",
   "execution_count": 2,
   "metadata": {},
   "outputs": [
    {
     "name": "stdout",
     "output_type": "stream",
     "text": [
      "362880\n"
     ]
    }
   ],
   "source": [
    "# This function takes an integer as an input and returns its factorial.\n",
    "def factorial(n):\n",
    "    # Exclude 0 as product, start with 1\n",
    "    y = 1\n",
    "    for i in range(int(n)):\n",
    "        y = y*(i+1)\n",
    "    return y\n",
    "\n",
    "# Enter a numerical value between 1-9 in the command line that appears.\n",
    "input_num = input()\n",
    "# Apply factorial function to an integer input\n",
    "print(factorial(input_num))"
   ]
  },
  {
   "cell_type": "code",
   "execution_count": 3,
   "metadata": {},
   "outputs": [
    {
     "data": {
      "text/plain": [
       "10.64"
      ]
     },
     "execution_count": 3,
     "metadata": {},
     "output_type": "execute_result"
    }
   ],
   "source": [
    "def seed_calculator(fountain_side, grass_width):\n",
    "    \"\"\"\n",
    "    Calculate number of kilograms of grass seed needed for\n",
    "    a border around a square fountain.\n",
    "\n",
    "        Parameters:\n",
    "            fountain_side (num): length of 1 side of fountain in meters\n",
    "            grass_width (num): width of grass border in meters\n",
    "\n",
    "        Returns:\n",
    "            seed (float): amount of seed (kg) needed for grass border\n",
    "    \"\"\"\n",
    "    # Area of fountain\n",
    "    fountain_area = fountain_side**2\n",
    "    # Total area\n",
    "    total_area = (fountain_side + 2 * grass_width)**2\n",
    "    # Area of grass border\n",
    "    grass_area = total_area - fountain_area\n",
    "    # Amount of seed needed (35 g/sq.m)\n",
    "    seed = grass_area * 35\n",
    "    # Convert to kg\n",
    "    seed = seed / 1000\n",
    "\n",
    "    return seed\n",
    "\n",
    "seed_calculator(15, 4)\n",
    "\n"
   ]
  },
  {
   "cell_type": "code",
   "execution_count": 4,
   "metadata": {},
   "outputs": [],
   "source": [
    "# Define a function named `total_sales`\n",
    "def total_sales(price,num_tickets):\n",
    "     \"\"\"\n",
    "    Calculate tota_sales in a cinema\n",
    "\n",
    "        Parameters:\n",
    "            price (float): this is the cost of tickets\n",
    "            num_tickets (integer): width of grass border in meters\n",
    "\n",
    "        Returns:\n",
    "            Sales (float): amount of cinema sales (float) \n",
    "    \"\"\"\n",
    "     # total sales of cinema by day\n",
    "     cinema_sales = price * num_tickets\n",
    "     # Return a value\n",
    "     return cinema_sales    \n",
    "    \n",
    "\n",
    "    "
   ]
  },
  {
   "cell_type": "code",
   "execution_count": 5,
   "metadata": {},
   "outputs": [
    {
     "data": {
      "text/plain": [
       "16005.99"
      ]
     },
     "execution_count": 5,
     "metadata": {},
     "output_type": "execute_result"
    }
   ],
   "source": [
    "# Call `total_sales` with 15.99 price and 1001 num_tickets\n",
    "### YOUR CODE HERE ###\n",
    "total_sales(15.99,1001)\n"
   ]
  },
  {
   "cell_type": "code",
   "execution_count": 6,
   "metadata": {},
   "outputs": [
    {
     "data": {
      "text/plain": [
       "20931.679999999997"
      ]
     },
     "execution_count": 6,
     "metadata": {},
     "output_type": "execute_result"
    }
   ],
   "source": [
    "# Call `total_sales` with 16.99 price and 1232 num_tickets\n",
    "### YOUR CODE HERE ###\n",
    "total_sales(16.99,1232)"
   ]
  },
  {
   "cell_type": "code",
   "execution_count": 7,
   "metadata": {},
   "outputs": [
    {
     "data": {
      "text/plain": [
       "15456.0"
      ]
     },
     "execution_count": 7,
     "metadata": {},
     "output_type": "execute_result"
    }
   ],
   "source": [
    "# Call `total_sales` with 10.50 price and 1472 num_tickets\n",
    "### YOUR CODE HERE ###\n",
    "total_sales(10.50,1472)"
   ]
  },
  {
   "cell_type": "code",
   "execution_count": 8,
   "metadata": {},
   "outputs": [
    {
     "data": {
      "text/plain": [
       "1745.0"
      ]
     },
     "execution_count": 8,
     "metadata": {},
     "output_type": "execute_result"
    }
   ],
   "source": [
    "# Call `total_sales` with 5.00 price and 349 num_tickets\n",
    "### YOUR CODE HERE ###\n",
    "total_sales(5.00,349)"
   ]
  },
  {
   "cell_type": "code",
   "execution_count": 9,
   "metadata": {},
   "outputs": [
    {
     "data": {
      "text/plain": [
       "471.41"
      ]
     },
     "execution_count": 9,
     "metadata": {},
     "output_type": "execute_result"
    }
   ],
   "source": [
    "def total_sales_1 (n):\n",
    "    sales_1 = n * 7.99\n",
    "    return sales_1\n",
    "\n",
    "total_sales_1 (59)"
   ]
  },
  {
   "cell_type": "code",
   "execution_count": 10,
   "metadata": {},
   "outputs": [],
   "source": [
    "### YOUR CODE HERE ###\n",
    "def send_email (num_visits,visits_email):\n",
    "    if num_visits >= visits_email:\n",
    "        print ('Send email.')\n",
    "    else:\n",
    "        print ('Not enough visits.')\n",
    "       \n"
   ]
  },
  {
   "cell_type": "code",
   "execution_count": 11,
   "metadata": {},
   "outputs": [
    {
     "name": "stdout",
     "output_type": "stream",
     "text": [
      "Send email.\n"
     ]
    }
   ],
   "source": [
    "send_email (6,5)"
   ]
  },
  {
   "cell_type": "code",
   "execution_count": 12,
   "metadata": {},
   "outputs": [],
   "source": [
    "### YOUR CODE HERE ###\n",
    "def send_email_1 (num_visits,visits_email,visits_coupon):\n",
    "    if num_visits >= visits_coupon:\n",
    "        print ('Send email with coupon.')\n",
    "    elif num_visits >= visits_email:\n",
    "        print ('Send email.')\n",
    "    else:\n",
    "        print ('Not enough visits.')"
   ]
  },
  {
   "cell_type": "code",
   "execution_count": 13,
   "metadata": {},
   "outputs": [
    {
     "name": "stdout",
     "output_type": "stream",
     "text": [
      "Not enough visits.\n",
      "Send email.\n",
      "Send email.\n",
      "Send email with coupon.\n",
      "Send email with coupon.\n"
     ]
    }
   ],
   "source": [
    "send_email_1 (3,5,8)\n",
    "send_email_1 (5,5,8)\n",
    "send_email_1 (6,5,8)\n",
    "send_email_1 (8,5,8)\n",
    "send_email_1 (10,5,8)"
   ]
  },
  {
   "cell_type": "code",
   "execution_count": 17,
   "metadata": {},
   "outputs": [
    {
     "name": "stdout",
     "output_type": "stream",
     "text": [
      "Candy purchased: 1\n",
      "Candy purchased: 2\n",
      "Candy purchased: 3\n",
      "Candy purchased: 4\n",
      "Candy purchased: 5\n"
     ]
    }
   ],
   "source": [
    "# Initialize the counter variable\n",
    "candy_purchased = 0\n",
    "\n",
    "    # Create a while loop that runs until 5 candies have been purchased\n",
    "while candy_purchased < 5:\n",
    "    # Print the current candy purchase count\n",
    "        print(f'Candy purchased: {candy_purchased + 1}')\n",
    "    # Increment the counter\n",
    "        candy_purchased += 1"
   ]
  },
  {
   "cell_type": "code",
   "execution_count": 5,
   "metadata": {},
   "outputs": [
    {
     "name": "stdout",
     "output_type": "stream",
     "text": [
      "1\n",
      "2\n",
      "3\n",
      "3\n"
     ]
    }
   ],
   "source": [
    "num = 5\n",
    "y = [1, 2, 3]\n",
    "for num in y:\n",
    "   print(num)\n",
    "print (num)"
   ]
  },
  {
   "cell_type": "code",
   "execution_count": 9,
   "metadata": {},
   "outputs": [
    {
     "name": "stdout",
     "output_type": "stream",
     "text": [
      "Igor\n",
      "Sokolov\n",
      "\n",
      "Riko\n",
      "Miyazaki\n",
      "\n",
      "Tuva\n",
      "Johansen\n",
      "\n"
     ]
    }
   ],
   "source": [
    "students = [['Igor', 'Sokolov'], ['Riko', 'Miyazaki'], ['Tuva', 'Johansen']]\n",
    "for student in students:\n",
    "   for name in student:\n",
    "       print(name)\n",
    "   print ()"
   ]
  },
  {
   "cell_type": "markdown",
   "metadata": {},
   "source": [
    "# Task 1: Iterating with if, elif, and else\n",
    "In your work as an analyst, you have received customer feedback for a newly launched product. The feedback is a numerical grade on a scale of 1-10, with 10 being the best. Understanding the number of customers who responded negatively, neutrally, or positively will help determine how to improve the product.\n",
    "\n",
    "### Define a function called score_counter that accepts the following argument:\n",
    "score_list - a list of customer-submitted scores, where each score is an integer, 1-10\n",
    "The function must iterate over the scores in score_list and bin them into three bins:\n",
    "Negative (scores of 1-5)\n",
    "Neutral (scores of 6-8)\n",
    "Positive (scores of 9-10)\n",
    "The output of the function must be three statements, each on its own line:\n",
    "\n",
    "'Negative: {number_of_negative_scores}'\n",
    "'Neutral: {number_of_neutral_scores}'\n",
    "'Positive: {number_of_positive_scores}'\n",
    "Example:\n",
    "\n",
    " [IN] score_counter([1, 2, 3, 4, 5, 6, 7, 8, 9, 10])\n",
    "[OUT] 'Negative: 5'\n",
    "      'Neutral: 3'\n",
    "      'Positive: 2'"
   ]
  },
  {
   "cell_type": "code",
   "execution_count": 18,
   "metadata": {},
   "outputs": [
    {
     "name": "stdout",
     "output_type": "stream",
     "text": [
      "Negative: 5\n",
      "Neutral: 3\n",
      "Positive: 2\n"
     ]
    }
   ],
   "source": [
    "# define function score_counter\n",
    "def score_counter(score_list):\n",
    "    # Initialize counters for each bin\n",
    "    negative_count = 0\n",
    "    neutral_count = 0\n",
    "    positive_count = 0\n",
    "\n",
    "    # Iterate through the list of scores\n",
    "    for score in score_list:\n",
    "        # Bin scores into categories using if, elif, and else\n",
    "        if 1 <= score <= 5:\n",
    "            negative_count += 1\n",
    "        elif 6 <= score <= 8:\n",
    "            neutral_count += 1\n",
    "        elif 9 <= score <= 10:\n",
    "            positive_count += 1\n",
    "\n",
    "    # Print the results\n",
    "    print(f'Negative: {negative_count}')\n",
    "    print(f'Neutral: {neutral_count}')\n",
    "    print(f'Positive: {positive_count}')\n",
    "\n",
    "# Example usage\n",
    "score_counter([1, 2, 3, 4, 5, 6, 7, 8, 9, 10])"
   ]
  },
  {
   "cell_type": "markdown",
   "metadata": {},
   "source": [
    "## Test Function\n",
    "### Test your function score_counter against the following cases by running the cell below."
   ]
  },
  {
   "cell_type": "code",
   "execution_count": 19,
   "metadata": {},
   "outputs": [
    {
     "name": "stdout",
     "output_type": "stream",
     "text": [
      "Test 1:\n",
      "Negative: 5\n",
      "Neutral: 1\n",
      "Positive: 4\n",
      "\n",
      "Test 2:\n",
      "Negative: 85\n",
      "Neutral: 253\n",
      "Positive: 112\n",
      "\n",
      "Test 3:\n",
      "Negative: 1935\n",
      "Neutral: 2652\n",
      "Positive: 5413\n"
     ]
    }
   ],
   "source": [
    "# RUN THIS CELL TO TEST YOUR FUNCTION\n",
    "\n",
    "import random\n",
    "random.seed(42)\n",
    "\n",
    "possible_scores = list(range(1,11))\n",
    "score_list1 = random.choices(possible_scores, weights=[8,8,8,8,8,3,3,4,20,30], k=10)\n",
    "score_list2 = random.choices(possible_scores, weights=[1,2,3,4,5,10,15,15,7,9], k=450)\n",
    "score_list3 = random.choices(possible_scores, weights=[1,2,3,4,4,5,5,10,15,25], k=10000)\n",
    "\n",
    "print('Test 1:')            # SHOULD OUTPUT (neg, neut, pos):\n",
    "score_counter(score_list1)  \n",
    "print('\\nTest 2:')\n",
    "score_counter(score_list2)  \n",
    "print('\\nTest 3:')\n",
    "score_counter(score_list3)  "
   ]
  },
  {
   "cell_type": "markdown",
   "metadata": {},
   "source": [
    "# Task 2: Create a for loop using if, not, and in\n",
    "There is concern that some of the customer feedback scores are fake. One way to check the integrity of the feedback is to identify how many scores came from verified customers.\n",
    "\n",
    "In this task, you are provided with two lists: a list of verified customer IDs and a list of all IDs that left feedback scores. You must validate the data by cross-checking the lists against each other.\n",
    "\n",
    "\n",
    "### Define a function called id_validator that takes two lists as arguments:\n",
    "\n",
    "verified_ids - a list containing IDs of verified customers\n",
    "feedback_ids - a list containing unique IDs of all posters of feedback scores\n",
    "The output of the function must be two statements, each on its own line:\n",
    "\n",
    "'{number_of_unverified_ids} of {number_of_feedback_ids} IDs unverified.'\n",
    "'{percent} unverified.'\n",
    "Example 1:\n",
    "\n",
    " [IN]  id_validator(verified_ids=['1', '2'], feedback_ids=['1', '2', '3'])\n",
    "[OUT]  '1 of 3 IDs unverified.'\n",
    "       '33.33% unverified.'\n",
    "Explanation:\n",
    "\n",
    "One of the IDs ('3') in feedback_ids is not in the list of verified_ids.\n",
    "1/3 of the IDs in feedback_ids are unverified.\n",
    "\n",
    "Example 2:\n",
    "\n",
    "\n",
    " [IN]  id_validator(verified_ids=['1a', '2b', '3c'], feedback_ids=['1a', '4d'])\n",
    "[OUT]  '1 of 2 IDs unverified.'\n",
    "       '50.0% unverified.'\n",
    "Explanation:\n",
    "\n",
    "One of the IDs ('4d') in feedback_ids is not in the list of verified_ids.\n",
    "1/2 of the IDs in feedback_ids are unverified."
   ]
  },
  {
   "cell_type": "code",
   "execution_count": 20,
   "metadata": {},
   "outputs": [
    {
     "name": "stdout",
     "output_type": "stream",
     "text": [
      "1 of 3 IDs unverified.\n",
      "33.33% unverified.\n",
      "1 of 2 IDs unverified.\n",
      "50.00% unverified.\n"
     ]
    }
   ],
   "source": [
    "# define function id_validator\n",
    "def id_validator(verified_ids, feedback_ids):\n",
    "    # Count the number of unverified IDs\n",
    "    unverified_count = 0\n",
    "    \n",
    "    for feedback_id in feedback_ids:\n",
    "        if feedback_id not in verified_ids:\n",
    "            unverified_count += 1\n",
    "    \n",
    "    # Calculate the total feedback IDs and percentage unverified\n",
    "    total_feedback_ids = len(feedback_ids)\n",
    "    percent_unverified = (unverified_count / total_feedback_ids) * 100\n",
    "    \n",
    "    # Print the required output\n",
    "    print(f'{unverified_count} of {total_feedback_ids} IDs unverified.')\n",
    "    print(f'{percent_unverified:.2f}% unverified.')\n",
    "\n",
    "# Example usage\n",
    "id_validator(verified_ids=['1', '2'], feedback_ids=['1', '2', '3'])\n",
    "id_validator(verified_ids=['1a', '2b', '3c'], feedback_ids=['1a', '4d'])"
   ]
  },
  {
   "cell_type": "markdown",
   "metadata": {},
   "source": [
    "# **Task 3: Create a nested loop**\n",
    "You've been asked to calculate the total value of all purchases made by each customer to understand how many customers have spent $100+.\n",
    "\n",
    "### **Write a function called purchases_100 that accepts the following argument:**\n",
    "\n",
    "sales - a list of lists where each inner list contains the prices of items purchased by a unique customer.\n",
    "The function must return the number of customers whose purchases summed to $100 or more.\n",
    "\n",
    "Example:\n",
    "\n",
    "sales = [[2.75], [50.0, 50.0], [150.46, 200.12, 111.30]]"
   ]
  },
  {
   "cell_type": "code",
   "execution_count": 1,
   "metadata": {},
   "outputs": [
    {
     "name": "stdout",
     "output_type": "stream",
     "text": [
      "2\n"
     ]
    }
   ],
   "source": [
    "def purchases_100(sales):\n",
    "    count = 0  # Initialize the counter\n",
    "    for customer_purchases in sales:\n",
    "        total = sum(customer_purchases)  # Calculate the sum of purchases for each customer\n",
    "        if total >= 100:\n",
    "            count += 1  # Increment the counter if the total is $100 or more\n",
    "    return count\n",
    "\n",
    "# Example usage:\n",
    "sales = [[2.75], [50.0, 50.0], [150.46, 200.12, 111.30]]\n",
    "print(purchases_100(sales))  # Output: 2"
   ]
  },
  {
   "cell_type": "code",
   "execution_count": 2,
   "metadata": {},
   "outputs": [
    {
     "data": {
      "text/plain": [
       "<re.Match object; span=(18, 22), match='wall'>"
      ]
     },
     "execution_count": 2,
     "metadata": {},
     "output_type": "execute_result"
    }
   ],
   "source": [
    "import re\n",
    "\n",
    "my_string = 'Three sad tigers swallowed wheat in a wheat field'\n",
    "\n",
    "re.search('wall', my_string)"
   ]
  },
  {
   "cell_type": "markdown",
   "metadata": {},
   "source": [
    "# **Activity:** Work with strings in Python\n",
    "\n",
    "## **Introduction**\n",
    "​\n",
    "Data professionals work with a lot of string data. For example, while analyzing the results of a marketing campaign, you may need to review item descriptions or customer names, which is stored as string data. Becoming comfortable working with strings in Python is essential for the work of a data professional.\n",
    "​\n",
    "In this lab, you'll practice coding in Python and working with strings. You'll work with a store ID, ZIP Code, and a custom URL for the store you're gathering data on."
   ]
  },
  {
   "cell_type": "markdown",
   "metadata": {},
   "source": [
    "# **Task 1: Check and change data types**\n",
    "Now that you have experience in marketing, you've moved on to market research. Your new task is collecting store data for future analysis. In this task, you're given a four-digit numeric store ID stored in a variable called store_id.\n",
    "\n",
    "- Convert store_id to a string and store the result in the same variable.\n",
    "- Confirm the type of store_id after the conversion."
   ]
  },
  {
   "cell_type": "code",
   "execution_count": 1,
   "metadata": {},
   "outputs": [
    {
     "data": {
      "text/plain": [
       "str"
      ]
     },
     "execution_count": 1,
     "metadata": {},
     "output_type": "execute_result"
    }
   ],
   "source": [
    "# Variable store_id\n",
    "store_id = 1101\n",
    "\n",
    "# 1. Convert store_id to a string and store the result in the same variable.\n",
    "store_id = str(store_id)\n",
    "\n",
    "# 2. Confirm the type of store_id after the conversion.\n",
    "type(store_id)"
   ]
  },
  {
   "cell_type": "markdown",
   "metadata": {},
   "source": [
    "# **Task 2: String concatenation**\n",
    "\n",
    "As you continue gathering data, you realize that the `store_id` variable is actually the ZIP Code where the store is located, but the leading `0` has been cut off.\n",
    "\n",
    "*  Define a function called `zip_checker` that accepts the following argument:\n",
    "    *  `zipcode` - a string with either four or five characters\n",
    "\n",
    "*  Return:\n",
    "    *  If `zipcode` has five characters, and the first two characters are NOT `'00'`, return `zipcode` as a string. Otherwise, return `'Invalid ZIP Code.'`. (ZIP Codes do not begin with 00 in the mainland U.S.)\n",
    "    *  If `zipcode` has four characters and the first character is NOT `'0'`, the function must add a zero to the beginning of the string and return the five-character `zipcode` as a string.\n",
    "    *  If `zipcode` has four characters and the first character is `'0'`, the function must return `'Invalid ZIP Code.'`.\n",
    "\n",
    "*Example:*\n",
    "\n",
    "```\n",
    " [IN] zip_checker('02806')\n",
    "[OUT] '02806'\n",
    "\n",
    " [IN] zip_checker('2806')\n",
    "[OUT] '02806'\n",
    "\n",
    " [IN] zip_checker('0280')\n",
    "[OUT] 'Invalid ZIP Code.'\n",
    "\n",
    " [IN] zip_checker('00280')\n",
    "[OUT] 'Invalid ZIP Code.'\n",
    "```"
   ]
  },
  {
   "cell_type": "code",
   "execution_count": 2,
   "metadata": {},
   "outputs": [],
   "source": [
    "# define function zip_checker\n",
    "def zip_checker(zipcode):\n",
    "    if len(zipcode) == 5: \n",
    "        if zipcode[:2] != '00': \n",
    "            return zipcode\n",
    "        else:\n",
    "            return 'Invalid ZIP Code.'\n",
    "    elif len(zipcode) == 4:\n",
    "        if zipcode[0] != '0':\n",
    "            return '0' + zipcode\n",
    "        else:\n",
    "            return 'Invalid ZIP Code.'\n",
    "    else:\n",
    "        return 'Invalid ZIP Code.'"
   ]
  },
  {
   "cell_type": "markdown",
   "metadata": {},
   "source": [
    "### **Test your function**\n",
    "Test your function against the following cases by running the cell below."
   ]
  },
  {
   "cell_type": "code",
   "execution_count": 3,
   "metadata": {},
   "outputs": [
    {
     "name": "stdout",
     "output_type": "stream",
     "text": [
      "02806\n",
      "02806\n",
      "Invalid ZIP Code.\n",
      "Invalid ZIP Code.\n"
     ]
    }
   ],
   "source": [
    "print(zip_checker('02806'))     # Should return 02806.\n",
    "print(zip_checker('2806'))      # Should return 02806.\n",
    "print(zip_checker('0280'))      # Should return 'Invalid ZIP Code.'\n",
    "print(zip_checker('00280'))     # Should return 'Invalid ZIP Code.'"
   ]
  },
  {
   "cell_type": "markdown",
   "metadata": {},
   "source": [
    "# **Task 3: Extract the store ID**\n",
    "\n",
    "Now imagine that you've been provided `url`, which is a URL containing the store's actual ID at the end of it.\n",
    "\n",
    "1.  Extract the seven-character store ID from the end of `url` and assign the result to a variable called `id`.\n",
    "2.  Print the contents of `id`."
   ]
  },
  {
   "cell_type": "code",
   "execution_count": 4,
   "metadata": {},
   "outputs": [
    {
     "name": "stdout",
     "output_type": "stream",
     "text": [
      "r626c36\n"
     ]
    }
   ],
   "source": [
    "# url provided\n",
    "url = \"https://exampleURL1.com/r626c36\"\n",
    "\n",
    "# 1. # Extract the seven-character store ID from the end of url and assign the result to a variable called id\n",
    "id = url[-7:]  # Extract the last 7 characters\n",
    "\n",
    "# 2. # Print the contents of id.\n",
    "print(id)"
   ]
  },
  {
   "cell_type": "markdown",
   "metadata": {},
   "source": [
    "# **Task 4: String extraction function**\n",
    "\n",
    "You have many URLs that contain store IDs, but many of them are invalid&mdash;either because they use an invalid protocol (the beginning of the URL) or because the store ID is not seven characters long.\n",
    "\n",
    "*  The correct URL protocol is `https:` Anything else is invalid.\n",
    "*  A valid store ID must have exactly seven characters.\n",
    "\n",
    "\n",
    "Define a function called `url_checker` that accepts the following argument:\n",
    "*  `url` - a URL string\n",
    "\n",
    "Return:\n",
    "*  If both the protocol and the store ID are invalid:\n",
    "    * print two lines: <br/>\n",
    "    `'{protocol} is an invalid protocol.'` <br/>\n",
    "    `'{store_id} is an invalid store ID.'` <br/>\n",
    "*  If only the protocol is invalid:\n",
    "    * print: <br/>\n",
    "    `'{protocol} is an invalid protocol.'` <br/>\n",
    "*  If only the store ID is invalid:\n",
    "    * print: <br/>\n",
    "        `'{store_id} is an invalid store ID.'` <br/>\n",
    "*  If both the protocol and the store ID are valid, return the store ID."
   ]
  },
  {
   "cell_type": "code",
   "execution_count": 10,
   "metadata": {},
   "outputs": [
    {
     "data": {
      "text/plain": [
       "'r626c36'"
      ]
     },
     "execution_count": 10,
     "metadata": {},
     "output_type": "execute_result"
    }
   ],
   "source": [
    "# Define url_checker\n",
    "def url_checker(url):\n",
    "    url = url.split('/')\n",
    "    protocol = url[0]\n",
    "    store_id = url[-1]\n",
    "    # If both protocol and store_id bad\n",
    "    if protocol != 'https:' and len(store_id) != 7:\n",
    "        print(f'{protocol} is an invalid protocol.',\n",
    "            f'\\n{store_id} is an invalid store ID.')\n",
    "    # If just protocol bad\n",
    "    elif protocol != 'https:':\n",
    "        print(f'{protocol} is an invalid protocol.')\n",
    "    # If just store_id bad\n",
    "    elif len(store_id) != 7:\n",
    "        print(f'{store_id} is an invalid store ID.')\n",
    "    # If all ok\n",
    "    else:\n",
    "        return store_id\n",
    "    \n",
    "url_checker('https://exampleURL1.com/r626c36')"
   ]
  },
  {
   "cell_type": "markdown",
   "metadata": {},
   "source": [
    "## **Test your function**\n",
    "Test your function against the following cases by running the cell below."
   ]
  },
  {
   "cell_type": "code",
   "execution_count": 11,
   "metadata": {},
   "outputs": [
    {
     "name": "stdout",
     "output_type": "stream",
     "text": [
      "http: is an invalid protocol. \n",
      "r626c3 is an invalid store ID.\n",
      "ftps: is an invalid protocol.\n",
      "r626c3 is an invalid store ID.\n"
     ]
    },
    {
     "data": {
      "text/plain": [
       "'r626c36'"
      ]
     },
     "execution_count": 11,
     "metadata": {},
     "output_type": "execute_result"
    }
   ],
   "source": [
    "# RUN THIS CELL TO TEST YOUR FUCTION            # Should return:\n",
    "url_checker('http://exampleURL1.com/r626c3')    # 'http: is an invalid protocol.'\n",
    "\n",
    "url_checker('ftps://exampleURL1.com/r626c36')   # 'ftps: is an invalid protocol.\n",
    "\n",
    "url_checker('https://exampleURL1.com/r626c3')   # 'r626c3 is an invalid store ID.'\n",
    "\n",
    "url_checker('https://exampleURL1.com/r626c36')  # 'r626c36'"
   ]
  },
  {
   "cell_type": "markdown",
   "metadata": {},
   "source": [
    "# **Activity: Introduction to lists and tuples**\n",
    "\n",
    "# **Introduction** \n",
    "\n",
    "In this lab, you will practice creating, modifying, and working with data structures in Python. This will develop your knowledge of different kinds of data structures and the different operations that you can perform with them to answer questions about the data. This will help you prepare for projects you may encounter where you will need to use data structures to store and keep track of data.\n",
    "\n",
    "For this activity, you are part of a research team that focuses on air quality, and you have received a few data points collected by the U.S. Environmental Protection Agency (EPA). Your goal is to store and organize this data, so that it can be accessed and updated easily.\n",
    "\n",
    "In this lab, you'll be working specifically with the state names and county names of places that reported air quality index readings."
   ]
  },
  {
   "cell_type": "markdown",
   "metadata": {},
   "source": [
    "# Tips for completing this lab\n",
    "\n",
    "As you navigate this lab, keep the following tips in mind:\n",
    "\n",
    "- `### YOUR CODE HERE ###` indicates where you should write code. Be sure to replace this with your own code before running the code cell.\n",
    "- Feel free to open the hints for additional guidance as you work on each task.\n",
    "- To enter your answer to a question, double-click the markdown cell to edit. Be sure to replace the \"[Double-click to enter your responses here.]\" with your own answer.\n",
    "- You can save your work manually by clicking File and then Save in the menu bar at the top of the notebook.\n",
    "- You can download your work locally by clicking File and then Download and then specifying your preferred file format in the menu bar at the top of the notebook."
   ]
  },
  {
   "cell_type": "markdown",
   "metadata": {},
   "source": [
    "## **Task 1: Create lists and use tuples**\n",
    "\n",
    "As you continue your work with the EPA, you want to create an ordered data structure containing pairs of values, which can be iterated over to gain insights from the data."
   ]
  },
  {
   "cell_type": "markdown",
   "metadata": {},
   "source": [
    "### **1a: Create lists**\n",
    "\n",
    "You'll work with state names and county names indicated below.\n",
    "\n",
    "| state_name | county_name |\n",
    "| --- | --- |\n",
    "| Arizona | Maricopa |\n",
    "| California | Alameda |\n",
    "| California | Sacramento |\n",
    "| Kentucky | Jefferson |\n",
    "| Louisiana | East Baton Rouge |\n",
    "\n",
    "<br/>\n",
    "\n",
    "\n",
    "*  In this task, assign two variables:\n",
    "\n",
    "    1. `state_names` - a `list` of each state in the `state_name` column in the table above, in order, as strings\n",
    "    2. `county_names` - a `list` of each county in the `county_name` column in the table above, in order, as strings\n"
   ]
  },
  {
   "cell_type": "code",
   "execution_count": 1,
   "metadata": {},
   "outputs": [
    {
     "name": "stdout",
     "output_type": "stream",
     "text": [
      "State Names: ['Arizona', 'California', 'California', 'Kentucky', 'Louisiana']\n",
      "County Names: ['Maricopa', 'Alameda', 'Sacramento', 'Jefferson', 'East Baton Rouge']\n"
     ]
    }
   ],
   "source": [
    "# 1. # Task 1a: Create lists\n",
    "\n",
    "# List of state names in order\n",
    "state_names = ['Arizona', 'California', 'California', 'Kentucky', 'Louisiana']\n",
    "\n",
    "# List of county names in order\n",
    "county_names = ['Maricopa', 'Alameda', 'Sacramento', 'Jefferson', 'East Baton Rouge']\n",
    "\n",
    "# Printing the lists to verify\n",
    "print('State Names:', state_names)\n",
    "print('County Names:', county_names)"
   ]
  },
  {
   "cell_type": "markdown",
   "metadata": {},
   "source": [
    "### **1b: Use a loop to combine the lists into a single list of tuples**\n",
    "\n",
    "* Use `state_names` and `county_names` to:\n",
    "    * Create a new list of tuples, where each tuple contains a pair of state name and county name.\n",
    "    * Assign the new list to a variable called `state_county_tuples`.\n",
    "* Print the result\n",
    "\n",
    "*Expected result:*\n",
    "\n",
    "```\n",
    "[OUT] [('Arizona', 'Maricopa'),\n",
    "       ('California', 'Alameda'),\n",
    "       ('California', 'Sacramento'),\n",
    "       ('Kentucky', 'Jefferson'),\n",
    "       ('Louisiana', 'East Baton Rouge')]"
   ]
  },
  {
   "cell_type": "code",
   "execution_count": 2,
   "metadata": {},
   "outputs": [
    {
     "name": "stdout",
     "output_type": "stream",
     "text": [
      "[('Arizona', 'Maricopa'), ('California', 'Alameda'), ('California', 'Sacramento'), ('Kentucky', 'Jefferson'), ('Louisiana', 'East Baton Rouge')]\n"
     ]
    }
   ],
   "source": [
    "# Task 1b: Use a loop to combine the lists into a single list of tuples\n",
    "\n",
    "# Initializing an empty list to store the tuples\n",
    "state_county_tuples = []\n",
    "\n",
    "# Looping through the indices of the state_names and county_names lists\n",
    "for i in range(len(state_names)):\n",
    "    # Creating a tuple with the state and county name at the current index\n",
    "    state_county_tuples.append((state_names[i], county_names[i]))\n",
    "\n",
    "# Printing the resulting list of tuples\n",
    "print(state_county_tuples)"
   ]
  },
  {
   "cell_type": "markdown",
   "metadata": {},
   "source": [
    "### **1c: Use the `zip()` function to combine the lists into a single list of tuples**\n",
    "\n",
    "Python has a built-in function to make the above process much easier. It's called the `zip()` function. This function accepts any number of iterable objects as arguments. If the arguments are all of equal length, the function returns an iterator object of tuples, where each tuple contains `element[i]` of each argument.\n",
    "\n",
    "You can then either loop over the iterator object or pass it to the `list()` function to unpack its values."
   ]
  },
  {
   "cell_type": "code",
   "execution_count": 3,
   "metadata": {},
   "outputs": [
    {
     "name": "stdout",
     "output_type": "stream",
     "text": [
      "[('Arizona', 'Maricopa'), ('California', 'Alameda'), ('California', 'Sacramento'), ('Kentucky', 'Jefferson'), ('Louisiana', 'East Baton Rouge')]\n",
      "True\n"
     ]
    }
   ],
   "source": [
    "# Task 1c: Use the zip() function to generate the same output\n",
    "\n",
    "# Using the zip function to combine state_names and county_names into a list of tuples\n",
    "state_county_zipped = list(zip(state_names, county_names))\n",
    "\n",
    "# Checking if state_county_zipped is the same as state_county_tuples\n",
    "print(state_county_zipped)\n",
    "print(state_county_zipped == state_county_tuples)"
   ]
  },
  {
   "cell_type": "markdown",
   "metadata": {},
   "source": [
    "## **Task 2: Use list comprehension to convert to list of lists**\n",
    "\n",
    "Since tuples are immutable and can't be changed, converting tuples to lists is a practice data professionals use so they can make adjustments to the data, if necessary.\n",
    "\n",
    "* Use a list comprehension to convert `state_county_tuples` from a list of tuples to a list of lists. Assign the result to a variable called `state_county_lists`.\n",
    "\n",
    "* Print the result."
   ]
  },
  {
   "cell_type": "code",
   "execution_count": 4,
   "metadata": {},
   "outputs": [
    {
     "name": "stdout",
     "output_type": "stream",
     "text": [
      "[['Arizona', 'Maricopa'], ['California', 'Alameda'], ['California', 'Sacramento'], ['Kentucky', 'Jefferson'], ['Louisiana', 'East Baton Rouge']]\n"
     ]
    }
   ],
   "source": [
    "# Task 2: Convert list of tuples to list of lists using list comprehension\n",
    "\n",
    "# Using list comprehension to convert each tuple in state_county_tuples to a list\n",
    "state_county_lists = [list(pair) for pair in state_county_tuples]\n",
    "\n",
    "# Printing the result\n",
    "print(state_county_lists)"
   ]
  },
  {
   "cell_type": "markdown",
   "metadata": {},
   "source": [
    "## **Task 3: Unpacking an iterable**\n",
    "\n",
    "Data professionals often use the technique of unpacking to work with individual elements of iterable objects. As you continue in your work as an analyst, you are asked to iterate through your list of state/county pairs to identify only the counties in California.\n",
    "\n",
    "As a refresher, here is the data you have been working with:\n",
    "\n",
    "| state_name | county_name |\n",
    "| --- | --- |\n",
    "| Arizona | Maricopa |\n",
    "| California | Alameda |\n",
    "| California | Sacramento |\n",
    "| Kentucky | Jefferson |\n",
    "| Louisiana | East Baton Rouge |"
   ]
  },
  {
   "cell_type": "markdown",
   "metadata": {},
   "source": [
    "### **3a: Unpacking in a loop**\n",
    "\n",
    "* Write a loop that unpacks each tuple in `state_county_tuples` and, if the state in the tuple is `California`, add the corresponding county to a list called `ca_counties`.\n",
    "\n",
    "*Expected output:*\n",
    "\n",
    "```\n",
    "[OUT] ['Alameda', 'Sacramento']"
   ]
  },
  {
   "cell_type": "code",
   "execution_count": 5,
   "metadata": {},
   "outputs": [
    {
     "name": "stdout",
     "output_type": "stream",
     "text": [
      "['Alameda', 'Sacramento']\n"
     ]
    }
   ],
   "source": [
    "# Task 3a: Unpacking in a loop\n",
    "\n",
    "# Initialize an empty list to store counties in California\n",
    "ca_counties = []\n",
    "\n",
    "# Iterate over each tuple in state_county_tuples\n",
    "for state, county in state_county_tuples:\n",
    "    # Check if the state is California\n",
    "    if state == \"California\":\n",
    "        # Add the county to the ca_counties list\n",
    "        ca_counties.append(county)\n",
    "\n",
    "# Print the result\n",
    "print(ca_counties)\n"
   ]
  },
  {
   "cell_type": "markdown",
   "metadata": {},
   "source": []
  },
  {
   "cell_type": "code",
   "execution_count": 7,
   "metadata": {},
   "outputs": [
    {
     "name": "stdout",
     "output_type": "stream",
     "text": [
      "['Alameda', 'Sacramento']\n",
      "True\n"
     ]
    }
   ],
   "source": [
    "# Task 3b: Unpacking in a list comprehension\n",
    "\n",
    "# List comprehension to get counties in California\n",
    "ca_counties_list = [county for (state,county) in state_county_tuples if state == \"California\"]\n",
    "\n",
    "# Print the result\n",
    "print(ca_counties_list)\n",
    "print(ca_counties_list == ca_counties )"
   ]
  },
  {
   "cell_type": "markdown",
   "metadata": {},
   "source": [
    "<h1>Activity: Dictionaries and sets</h1>"
   ]
  },
  {
   "cell_type": "markdown",
   "metadata": {},
   "source": [
    "# **Task 1: Create a dictionary to store information</h2></summary>**\n",
    "\n",
    "Dictionaries are useful when you need a data structure to store information that can be referenced or looked up.\n",
    "\n",
    "In this task you'll begin with three `list` objects:\n",
    "\n",
    "* `state_list` - an ordered list of the state where each data point was recorded\n",
    "* `county_list` - an ordered list of the county where each data point was recorded\n",
    "* `aqi_list` - an ordered list of AQI records\n",
    "\n",
    "As a refresher, here is an example table of some of the information contained in these variables:\n",
    "\n",
    "| state_name | county_name | aqi |\n",
    "| --- | --- | --- |\n",
    "| Arizona | Maricopa | 9 |\n",
    "| California | Alameda | 11 |\n",
    "| California | Sacramento | 35 |\n",
    "| Kentucky | Jefferson | 6 |\n",
    "| Louisiana | East Baton Rouge | 5 |"
   ]
  },
  {
   "cell_type": "markdown",
   "metadata": {},
   "source": [
    "## **1a: Create a list of tuples**\n",
    "\n",
    "Begin with an intermediary step to prepare the information to be put in a dictionary.\n",
    "\n",
    "* Convert `state_list`, `county_list`, and `aqi_list` to a list of tuples, where each tuple contains information for a single record: `(state, county, aqi)`.\n",
    "\n",
    "* Assign the result to a variable called `epa_tuples`."
   ]
  },
  {
   "cell_type": "code",
   "execution_count": 3,
   "metadata": {},
   "outputs": [],
   "source": [
    "# Create Variables\n",
    "state_list = ['Arizona','California','California','Kentucky','Louisiana']\n",
    "county_list = ['Maricopa', 'Alameda', 'Sacramento', 'Jefferson', 'East Baton Rouge']\n",
    "aqi_list = [9, 11, 35, 6, 5]"
   ]
  },
  {
   "cell_type": "code",
   "execution_count": 4,
   "metadata": {},
   "outputs": [
    {
     "data": {
      "text/plain": [
       "[('Arizona', 'Maricopa', 9),\n",
       " ('California', 'Alameda', 11),\n",
       " ('California', 'Sacramento', 35),\n",
       " ('Kentucky', 'Jefferson', 6),\n",
       " ('Louisiana', 'East Baton Rouge', 5)]"
      ]
     },
     "execution_count": 4,
     "metadata": {},
     "output_type": "execute_result"
    }
   ],
   "source": [
    "# Using the zip function to combine state_list, county_list and aqi_list into a list of tuples\n",
    "epa_tuples = list(zip(state_list, county_list,aqi_list))\n",
    "epa_tuples"
   ]
  },
  {
   "cell_type": "markdown",
   "metadata": {},
   "source": [
    "## **1b: Create a dictionary**\n",
    "\n",
    "Now that you have a list of tuples containing AQI records, use it to create a dictionary that allows you to look up a state and get all the county-AQI pairs associated with that state.\n",
    "\n",
    "* Create a dictionary called `aqi_dict`:\n",
    "    * Use a loop to unpack information from each tuple in `epa_tuples`.\n",
    "    * Your dictionary's keys should be states.\n",
    "    * The value at each key should be a list of tuples, where each tuple is a county-AQI pair of a record from a given state."
   ]
  },
  {
   "cell_type": "code",
   "execution_count": 5,
   "metadata": {},
   "outputs": [
    {
     "data": {
      "text/plain": [
       "{'Arizona': [('Maricopa', 9)],\n",
       " 'California': [('Alameda', 11), ('Sacramento', 35)],\n",
       " 'Kentucky': [('Jefferson', 6)],\n",
       " 'Louisiana': [('East Baton Rouge', 5)]}"
      ]
     },
     "execution_count": 5,
     "metadata": {},
     "output_type": "execute_result"
    }
   ],
   "source": [
    "# Task 1b: Create a dictionary\n",
    "aqi_dict = {}\n",
    "# Loop through each tuple in epa_tuples\n",
    "for state, county, aqi in epa_tuples:\n",
    "    if state not in aqi_dict:\n",
    "        # Initialize a new list for the state if it doesn't exist\n",
    "        aqi_dict[state] = []\n",
    "    # Append the county-AQI pair to the state's list\n",
    "    aqi_dict[state].append((county, aqi))\n",
    "\n",
    "# Example of accessing data from the dictionary\n",
    "aqi_dict['Arizona'] # Example output\n",
    "aqi_dict"
   ]
  },
  {
   "cell_type": "markdown",
   "metadata": {},
   "source": [
    "# **Task 2: Use the dictionary to retrieve information**\n",
    "\n",
    "Now that you have a dictionary of county-AQI readings by state, you can use it to retrieve information and draw further insight from your data."
   ]
  },
  {
   "cell_type": "markdown",
   "metadata": {},
   "source": [
    "## **2a: Calculate how many readings were recorded in the state of Arizona**\n",
    "\n",
    "Use your Python skills to calculate the number of readings that were recorded in the state of Arizona."
   ]
  },
  {
   "cell_type": "code",
   "execution_count": 6,
   "metadata": {},
   "outputs": [
    {
     "name": "stdout",
     "output_type": "stream",
     "text": [
      "Number of readings recorded in Arizona: 1\n"
     ]
    }
   ],
   "source": [
    "# Calculate the number of readings recorded in Arizona\n",
    "arizona_readings_count = len(aqi_dict.get(\"Arizona\", []))\n",
    "\n",
    "# Print the result\n",
    "print(f\"Number of readings recorded in Arizona: {arizona_readings_count}\")"
   ]
  },
  {
   "cell_type": "markdown",
   "metadata": {},
   "source": [
    "## **2b: Calculate the mean AQI from the state of California**\n",
    "\n",
    "Use your Python skills to calculate the mean of the AQI readings that were recorded in the state of California. Note that there are many different approaches you can take. Be creative!"
   ]
  },
  {
   "cell_type": "code",
   "execution_count": 7,
   "metadata": {},
   "outputs": [
    {
     "name": "stdout",
     "output_type": "stream",
     "text": [
      "Mean AQI for California: 23.0\n"
     ]
    }
   ],
   "source": [
    "# Retrieve the list of county-AQI pairs for California\n",
    "california_readings = aqi_dict.get(\"California\", [])\n",
    "\n",
    "# Extract the AQI values from the list of tuples\n",
    "california_aqi_values = [aqi for county, aqi in california_readings]\n",
    "\n",
    "# Calculate the mean AQI\n",
    "mean_california_aqi = sum(california_aqi_values) / len(california_aqi_values)\n",
    "\n",
    "# Print the result\n",
    "print(f\"Mean AQI for California: {mean_california_aqi}\")"
   ]
  },
  {
   "cell_type": "markdown",
   "metadata": {},
   "source": [
    "# **Task 3: Define a `county_counter()` function**\n",
    "\n",
    "You want to be able to quickly look up how many times a county is represented in a given state's readings. Even though you already have a list containing just county names, it's not safe to rely on the counts from that list alone because some states might have counties with the same name. Therefore, you'll need to use the state-specific information in `aqi_dict` to calculate this information."
   ]
  },
  {
   "cell_type": "markdown",
   "metadata": {},
   "source": [
    "## **3a: Write the function**\n",
    "\n",
    "* Define a function called `county_counter` that takes one argument:\n",
    "    * `state` - a string of the name of a U.S. state\n",
    "\n",
    "* Return `county_dict` - a `dictionary` object whose keys are counties of the `state` given in the function's argument. For each county key, the corresponding value should be the count of the number of times that county is represented in the AQI data for that state."
   ]
  },
  {
   "cell_type": "code",
   "execution_count": 9,
   "metadata": {},
   "outputs": [
    {
     "data": {
      "text/plain": [
       "{'Alameda': 1, 'Sacramento': 1}"
      ]
     },
     "execution_count": 9,
     "metadata": {},
     "output_type": "execute_result"
    }
   ],
   "source": [
    "# call function county_counter\n",
    "def county_counter(state):\n",
    "    # Create an empty dictionary to storage counties\n",
    "    county_dict = {}\n",
    "    for county, aqi in aqi_dict[state]: \n",
    "        if county in county_dict:\n",
    "            county_dict[county] += 1\n",
    "        else:\n",
    "            county_dict[county] = 1\n",
    "    return county_dict\n",
    "\n",
    "# Example usage\n",
    "county_counter('California')"
   ]
  },
  {
   "cell_type": "markdown",
   "metadata": {},
   "source": [
    "## **3b: Use the function to check Jefferson County, Kentucky.**\n",
    "\n",
    "Use the `county_counter()` function to calculate how many AQI readings were from `Jefferson` County, `Kentucky`."
   ]
  },
  {
   "cell_type": "code",
   "execution_count": 11,
   "metadata": {},
   "outputs": [
    {
     "data": {
      "text/plain": [
       "1"
      ]
     },
     "execution_count": 11,
     "metadata": {},
     "output_type": "execute_result"
    }
   ],
   "source": [
    "# create a variable Ky_dict using county_counter function\n",
    "ky_dict = county_counter('Kentucky')\n",
    "ky_dict['Jefferson']"
   ]
  },
  {
   "cell_type": "markdown",
   "metadata": {},
   "source": [
    "## **3c: Use the function to check the different counties in Indiana**\n",
    "\n",
    "Use the `county_counter` function to obtain a list of all the different counties in the state of Indiana."
   ]
  },
  {
   "cell_type": "code",
   "execution_count": 13,
   "metadata": {},
   "outputs": [
    {
     "data": {
      "text/plain": [
       "dict_keys(['East Baton Rouge'])"
      ]
     },
     "execution_count": 13,
     "metadata": {},
     "output_type": "execute_result"
    }
   ],
   "source": [
    "# use county_function calling State of Louisiana and using keys () dictionary methods to obtain the different counties of the state\n",
    "county_counter('Louisiana').keys()"
   ]
  }
 ],
 "metadata": {
  "kernelspec": {
   "display_name": "Python 3",
   "language": "python",
   "name": "python3"
  },
  "language_info": {
   "codemirror_mode": {
    "name": "ipython",
    "version": 3
   },
   "file_extension": ".py",
   "mimetype": "text/x-python",
   "name": "python",
   "nbconvert_exporter": "python",
   "pygments_lexer": "ipython3",
   "version": "3.12.4"
  }
 },
 "nbformat": 4,
 "nbformat_minor": 2
}
